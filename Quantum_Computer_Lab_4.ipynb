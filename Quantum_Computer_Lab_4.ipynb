{
 "cells": [
  {
   "cell_type": "markdown",
   "metadata": {},
   "source": [
    "# Quantum Computer lab 4\n",
    "\n",
    "These lab exercises are **NOT** part of the assesment of the module, but they should be useful training for the coursework."
   ]
  },
  {
   "cell_type": "markdown",
   "metadata": {},
   "source": [
    "* Please run the code to make sure it works, then try the questions.\n",
    "* The idea is to explore the influence on noise on circuits\n",
    "\n"
   ]
  },
  {
   "cell_type": "markdown",
   "metadata": {},
   "source": [
    "## Background to quantum noise\n",
    "\n",
    "*  Overview of quantum noise from Amazon  https://aws.amazon.com/blogs/quantum-computing/noise-in-quantum-computing/\n",
    "*  "
   ]
  },
  {
   "cell_type": "markdown",
   "metadata": {},
   "source": [
    "##  Installing pennylane on the University machines and your laptop\n",
    "\n",
    "There are instructions on how to install pennylane on your computer at: https://pennylane.ai/install/\n",
    "\n",
    "In the annaconda prompt or terminal on a Mac type \n",
    "\n",
    "pip install pennylane --upgrade\n",
    "\n",
    "If you have spyder running you may need to restart spyder to access the library.\n",
    "\n",
    "You will have to run this command everytime you work on a new PC in the lab.\n",
    "\n",
    "There may be  additional complications with the University PCs,because of administrative rights. \n",
    "\n",
    "\n",
    "\n",
    "\n",
    "\n"
   ]
  },
  {
   "cell_type": "markdown",
   "metadata": {},
   "source": [
    "##  Classsical noise  (Coherent noise)\n",
    "\n",
    "Examples taken from "
   ]
  },
  {
   "cell_type": "code",
   "execution_count": 10,
   "metadata": {},
   "outputs": [],
   "source": [
    "import pennylane as qml\n",
    "from pennylane import numpy as np\n",
    "import matplotlib.pyplot as plt\n",
    "\n",
    "dev1 = qml.device(\"default.qubit\", wires=1)\n",
    "\n",
    "@qml.qnode(dev1)\n",
    "def nonoise_circuit():\n",
    "    rand_angle = 0.0\n",
    "    # np.random.rand() uniformly samples from [0, 1)\n",
    "    qml.RX(rand_angle, wires=0)\n",
    "    return qml.expval(qml.PauliZ(0))\n",
    "\n"
   ]
  },
  {
   "cell_type": "code",
   "execution_count": 11,
   "metadata": {},
   "outputs": [
    {
     "data": {
      "image/png": "[encoded data removed]",
      "text/plain": [
       "<Figure size 400x200 with 1 Axes>"
      ]
     },
     "metadata": {},
     "output_type": "display_data"
    }
   ],
   "source": [
    "qnode = qml.QNode(nonoise_circuit, dev1)\n",
    "qml.draw_mpl(qnode, decimals=1, style=\"sketch\")()\n",
    "plt.show()"
   ]
  },
  {
   "cell_type": "code",
   "execution_count": 12,
   "metadata": {},
   "outputs": [
    {
     "name": "stdout",
     "output_type": "stream",
     "text": [
      "1.0\n"
     ]
    }
   ],
   "source": [
    "print(nonoise_circuit())"
   ]
  },
  {
   "cell_type": "markdown",
   "metadata": {},
   "source": [
    "expval takes the expectation value\n",
    "\n",
    "$$  <0 | \\sigma_z | 0 > = 1 $$\n",
    "\n",
    "This agrees with the simulation"
   ]
  },
  {
   "cell_type": "markdown",
   "metadata": {},
   "source": [
    "## Introduce some noise\n",
    "\n",
    "One way to introduce noise is to add a random rotation to the circuit.\n",
    "\n",
    "The definition of the Rx gate is from https://docs.pennylane.ai/en/stable/code/api/pennylane.RX.html\n",
    "\n",
    "See the circuit below\n",
    "\n",
    "RX(rand_angle) is the random noise.\n",
    "\n",
    "$$\n",
    "R_x(\\phi) = e^{-i\\phi\\sigma_x/2} = \\begin{bmatrix}\n",
    "                \\cos(\\phi/2) & -i\\sin(\\phi/2) \\\\\n",
    "                -i\\sin(\\phi/2) & \\cos(\\phi/2)\n",
    "            \\end{bmatrix}.\n",
    "$$\n"
   ]
  },
  {
   "cell_type": "code",
   "execution_count": 13,
   "metadata": {},
   "outputs": [],
   "source": [
    "import pennylane as qml\n",
    "from pennylane import numpy as np\n",
    "\n",
    "dev1 = qml.device(\"default.qubit\", wires=1)\n",
    "\n",
    "@qml.qnode(dev1)\n",
    "def rot_circuit(prec):\n",
    "    rand_angle = np.pi + prec*np.random.rand()\n",
    "    # np.random.rand() uniformly samples from [0, 1)\n",
    "    qml.RX(rand_angle, wires=0)\n",
    "    return qml.expval(qml.PauliZ(0))"
   ]
  },
  {
   "cell_type": "code",
   "execution_count": null,
   "metadata": {},
   "outputs": [],
   "source": []
  },
  {
   "cell_type": "markdown",
   "metadata": {},
   "source": [
    "## evaluate the circuit "
   ]
  },
  {
   "cell_type": "code",
   "execution_count": 16,
   "metadata": {},
   "outputs": [
    {
     "name": "stdout",
     "output_type": "stream",
     "text": [
      "-0.5378565486369811\n",
      "-0.9988046794850223\n"
     ]
    }
   ],
   "source": [
    "print(rot_circuit(4))\n",
    "print(rot_circuit(0.1))\n"
   ]
  },
  {
   "cell_type": "code",
   "execution_count": null,
   "metadata": {},
   "outputs": [],
   "source": [
    "## add some quantum noise\n",
    "\n",
    "The BitFlip operator randomly flips the qubit\n"
   ]
  },
  {
   "cell_type": "code",
   "execution_count": 23,
   "metadata": {},
   "outputs": [],
   "source": [
    "dev2 = qml.device('default.mixed', wires=1)\n",
    "@qml.qnode(dev2)\n",
    "def bitflip_circuit(p):\n",
    "    qml.BitFlip(p, wires=0)\n",
    "    return qml.expval(qml.PauliZ(0))\n"
   ]
  },
  {
   "cell_type": "code",
   "execution_count": 24,
   "metadata": {},
   "outputs": [
    {
     "name": "stdout",
     "output_type": "stream",
     "text": [
      "Prob of flip  0 0.9999999999999998\n",
      "Prob of flip  0.1 0.8\n",
      "Prob of flip  0.99 -0.98\n"
     ]
    }
   ],
   "source": [
    "for p in [ 0, 0.1 , 0.99] :\n",
    "   print(\"Prob of flip \", p, bitflip_circuit(p))"
   ]
  },
  {
   "cell_type": "markdown",
   "metadata": {},
   "source": [
    "##  Quantum noise \n",
    "\n",
    "Examples taken from https://pennylane.ai/qml/demos/tutorial_noisy_circuits\n",
    "\n"
   ]
  },
  {
   "cell_type": "code",
   "execution_count": 18,
   "metadata": {},
   "outputs": [
    {
     "name": "stdout",
     "output_type": "stream",
     "text": [
      "QNode output = 1.0000\n"
     ]
    }
   ],
   "source": [
    "import pennylane as qml\n",
    "from jax import numpy as np\n",
    "import jax\n",
    "\n",
    "dev = qml.device('default.mixed', wires=2)\n",
    "\n",
    "@qml.qnode(dev)\n",
    "def circuit():\n",
    "    qml.Hadamard(wires=0)\n",
    "    qml.CNOT(wires=[0, 1])\n",
    "    return qml.expval(qml.PauliZ(0) @ qml.PauliZ(1))\n",
    "\n",
    "\n",
    "print(f\"QNode output = {circuit():.4f}\")"
   ]
  },
  {
   "cell_type": "markdown",
   "metadata": {},
   "source": []
  },
  {
   "cell_type": "markdown",
   "metadata": {},
   "source": [
    "## Compute the density matrix\n",
    "\n",
    "The density matrix is a critical object to evaluate quantum noise.\n",
    "\n",
    "The circuit below creates the state from the input $ |00> $\n",
    "\n",
    "$$\n",
    "|\\psi > = \\frac{1}{\\sqrt{2}} ( |00> + |11> )\n",
    "$$\n"
   ]
  },
  {
   "cell_type": "code",
   "execution_count": 20,
   "metadata": {},
   "outputs": [
    {
     "name": "stdout",
     "output_type": "stream",
     "text": [
      "Output density matrix is = \n",
      "[[0.5 0.  0.  0.5]\n",
      " [0.  0.  0.  0. ]\n",
      " [0.  0.  0.  0. ]\n",
      " [0.5 0.  0.  0.5]]\n"
     ]
    }
   ],
   "source": [
    "@qml.qnode(dev)\n",
    "def density_matrix_circuit():\n",
    "    qml.Hadamard(wires=0)\n",
    "    qml.CNOT(wires=[0, 1])\n",
    "    return qml.state()\n",
    "\n",
    "matrix = density_matrix_circuit()\n",
    "print(f\"Output density matrix is = \\n{np.real(matrix)}\")"
   ]
  },
  {
   "cell_type": "markdown",
   "metadata": {},
   "source": [
    "Question\n",
    "\n",
    "Can you derive the density matrix from the state.\n",
    "$$\n",
    "|\\psi > = \\frac{1}{\\sqrt{2}} ( |00> + |11> )\n",
    "$$\n",
    "\n"
   ]
  },
  {
   "cell_type": "markdown",
   "metadata": {},
   "source": [
    "## Quantum noise"
   ]
  },
  {
   "cell_type": "code",
   "execution_count": 6,
   "metadata": {},
   "outputs": [],
   "source": [
    "dev2 = qml.device('default.mixed', wires=1)"
   ]
  },
  {
   "cell_type": "code",
   "execution_count": 7,
   "metadata": {},
   "outputs": [],
   "source": [
    "@qml.qnode(dev2)\n",
    "def bitflip_circuit(p):\n",
    "    qml.BitFlip(p, wires=0)\n",
    "    return qml.expval(qml.PauliZ(0))"
   ]
  },
  {
   "cell_type": "code",
   "execution_count": null,
   "metadata": {},
   "outputs": [],
   "source": []
  },
  {
   "cell_type": "code",
   "execution_count": 10,
   "metadata": {},
   "outputs": [
    {
     "name": "stdout",
     "output_type": "stream",
     "text": [
      "0.9999999999999998\n",
      "0.98\n",
      "-0.98\n"
     ]
    }
   ],
   "source": [
    "print(bitflip_circuit(0.0))\n",
    "print(bitflip_circuit(0.01))\n",
    "print(bitflip_circuit(0.99))"
   ]
  },
  {
   "cell_type": "code",
   "execution_count": null,
   "metadata": {},
   "outputs": [],
   "source": []
  },
  {
   "cell_type": "markdown",
   "metadata": {},
   "source": [
    "## Qiskit"
   ]
  },
  {
   "cell_type": "code",
   "execution_count": 12,
   "metadata": {},
   "outputs": [],
   "source": [
    "#  https://discuss.pennylane.ai/t/qml-device-error-with-qiskit-aer/4556/6\n",
    "# update from https://qiskit.github.io/qiskit-aer/tutorials/3_building_noise_models.html\n",
    "\n",
    "from qiskit_ibm_runtime.fake_provider import FakeSantiago"
   ]
  },
  {
   "cell_type": "code",
   "execution_count": 17,
   "metadata": {},
   "outputs": [],
   "source": [
    "import qiskit_aer\n",
    "import qiskit_aer.noise "
   ]
  },
  {
   "cell_type": "code",
   "execution_count": 19,
   "metadata": {},
   "outputs": [],
   "source": [
    "import qiskit\n",
    "#import qiskit.providers.aer.noise as noise  #  error\n",
    "\n",
    "# create a bit flip error with probability p = 0.01\n",
    "p = 0.01\n",
    "my_bitflip = qiskit_aer.noise.pauli_error([('X', p), ('I', 1 - p)])\n",
    "\n",
    "# create an empty noise model\n",
    "my_noise_model = qiskit_aer.noise.NoiseModel()\n",
    "\n",
    "# attach the error to the hadamard gate 'h'\n",
    "my_noise_model.add_quantum_error(my_bitflip, ['h'], [0])\n",
    "\n",
    "dev4 = qml.device('qiskit.aer', wires=1, noise_model = my_noise_model)\n",
    "\n",
    "@qml.qnode(dev4)\n",
    "def bitflip_circuit_aer():\n",
    "    qml.Hadamard(0)\n",
    "    return qml.expval(qml.PauliZ(0))"
   ]
  },
  {
   "cell_type": "code",
   "execution_count": 20,
   "metadata": {},
   "outputs": [
    {
     "name": "stdout",
     "output_type": "stream",
     "text": [
      "0.025390625\n"
     ]
    }
   ],
   "source": [
    "print(bitflip_circuit_aer())"
   ]
  },
  {
   "cell_type": "code",
   "execution_count": null,
   "metadata": {},
   "outputs": [],
   "source": []
  }
 ],
 "metadata": {
  "kernelspec": {
   "display_name": "Python 3 (ipykernel)",
   "language": "python",
   "name": "python3"
  },
  "language_info": {
   "codemirror_mode": {
    "name": "ipython",
    "version": 3
   },
   "file_extension": ".py",
   "mimetype": "text/x-python",
   "name": "python",
   "nbconvert_exporter": "python",
   "pygments_lexer": "ipython3",
   "version": "3.12.7"
  }
 },
 "nbformat": 4,
 "nbformat_minor": 4
}
