{
 "cells": [
  {
   "cell_type": "markdown",
   "metadata": {},
   "source": [
    "# Quantum Computer lab 5\n",
    "\n",
    "These lab exercises are **NOT** part of the assesment of the module, but they should be useful training for the coursework."
   ]
  },
  {
   "cell_type": "markdown",
   "metadata": {},
   "source": [
    "* Please run the code to make sure it works\n",
    "\n"
   ]
  },
  {
   "cell_type": "markdown",
   "metadata": {},
   "source": [
    "## Background to the variational quantum eigensolver\n",
    "\n",
    "*  https://en.wikipedia.org/wiki/Variational_quantum_eigensolver\n",
    "*  https://en.wikipedia.org/wiki/Rayleigh%E2%80%93Ritz_method\n",
    "\n",
    "The VQE computes the eigenvalues of an operator. The optimization is run on the classical computer\n"
   ]
  },
  {
   "cell_type": "markdown",
   "metadata": {},
   "source": [
    "##  Installing pennylane on the University machines and your laptop\n",
    "\n",
    "There are instructions on how to install pennylane on your computer at: https://pennylane.ai/install/\n",
    "\n",
    "In the annaconda prompt or terminal on a Mac type \n",
    "\n",
    "pip install pennylane --upgrade\n",
    "\n",
    "If you have spyder running you may need to restart spyder to access the library.\n",
    "\n",
    "You will have to run this command everytime you work on a new PC in the lab.\n",
    "\n",
    "There may be  additional complications with the University PCs,because of administrative rights. \n",
    "\n",
    "### Additional packages to be installed\n",
    "\n",
    "I had to install the packages below to get this python script to run\n",
    "\n",
    "conda install conda-forge::h5py\n",
    "\n",
    "conda install conda-forge::fsspec\n",
    "\n",
    "conda install conda-forge::aiohttp\n",
    "\n",
    "pip install optax\n",
    "\n",
    "pip install  jax\n",
    "\n"
   ]
  },
  {
   "cell_type": "markdown",
   "metadata": {},
   "source": [
    "## Exercises on the Variational Quantum Eigensolver\n",
    "\n",
    "Based on https://pennylane.ai/qml/demos/tutorial_vqe\n",
    "\n",
    "The example computes the energy of the $H_2$ molecule.\n",
    "\n",
    "The parameters of the molecule are loaded using the qml.data.load method\n"
   ]
  },
  {
   "cell_type": "code",
   "execution_count": null,
   "metadata": {},
   "outputs": [],
   "source": []
  },
  {
   "cell_type": "code",
   "execution_count": 24,
   "metadata": {},
   "outputs": [
    {
     "name": "stdout",
     "output_type": "stream",
     "text": [
      "Number of qubits =  4\n",
      "The Hamiltonian is  -0.09963387941370971 * I(0) + 0.17110545123720233 * Z(0) + 0.17110545123720225 * Z(1) + 0.16859349595532533 * (Z(0) @ Z(1)) + 0.04533062254573469 * (Y(0) @ X(1) @ X(2) @ Y(3)) + -0.04533062254573469 * (Y(0) @ Y(1) @ X(2) @ X(3)) + -0.04533062254573469 * (X(0) @ X(1) @ Y(2) @ Y(3)) + 0.04533062254573469 * (X(0) @ Y(1) @ Y(2) @ X(3)) + -0.22250914236600539 * Z(2) + 0.12051027989546245 * (Z(0) @ Z(2)) + -0.22250914236600539 * Z(3) + 0.16584090244119712 * (Z(0) @ Z(3)) + 0.16584090244119712 * (Z(1) @ Z(2)) + 0.12051027989546245 * (Z(1) @ Z(3)) + 0.1743207725924201 * (Z(2) @ Z(3))\n"
     ]
    }
   ],
   "source": [
    "import pennylane as qml\n",
    "\n",
    "dataset = qml.data.load('qchem', molname=\"H2\")[0]\n",
    "H, qubits = dataset.hamiltonian, len(dataset.hamiltonian.wires)\n",
    "print(\"Number of qubits = \", qubits)\n",
    "print(\"The Hamiltonian is \", H)"
   ]
  },
  {
   "cell_type": "code",
   "execution_count": 25,
   "metadata": {},
   "outputs": [
    {
     "name": "stdout",
     "output_type": "stream",
     "text": [
      "<Dataset = molname: H2, basis: STO-3G, bondlength: 0.742, attributes: ['molname', 'basis', ...]>\n"
     ]
    }
   ],
   "source": [
    "print(dataset)"
   ]
  },
  {
   "cell_type": "markdown",
   "metadata": {},
   "source": [
    "The quantum simulator "
   ]
  },
  {
   "cell_type": "code",
   "execution_count": 26,
   "metadata": {},
   "outputs": [],
   "source": [
    "dev = qml.device(\"lightning.qubit\", wires=qubits)"
   ]
  },
  {
   "cell_type": "markdown",
   "metadata": {},
   "source": [
    "Define the quantum circuit that prepares the trial\n",
    "state of the molecule. We want to prepare states of the form,\n",
    "\n",
    "$$\\vert \\Psi(\\theta) \\rangle = \\cos(\\theta/2)~|1100\\rangle -\\sin(\\theta/2)~|0011\\rangle,$$\n",
    "\n",
    "where $\\theta$ is the variational parameter to be optimized in order to\n",
    "find the best approximation to the true ground state. In the\n",
    "Jordan-Wigner encoding, the first term $|1100\\rangle$ represents the\n",
    "[Hartree-Fock (HF)\n",
    "state](https://en.wikipedia.org/wiki/Hartree%E2%80%93Fock_method) where\n",
    "the two electrons in the molecule occupy the lowest-energy orbitals. The\n",
    "second term $|0011\\rangle$ encodes a double excitation of the HF state\n",
    "where the two particles are excited from qubits 0, 1 to 2, 3.\n",
    "\n",
    "The quantum circuit to prepare the trial state\n",
    "$\\vert \\Psi(\\theta) \\rangle$ is schematically illustrated in the figure\n",
    "below.\n",
    "\n",
    "![vqe](https://github.com/cmcneile/Quantum_Computing_lab_2024/blob/main/vqecircuit.png?raw=true)\n",
    "\n",
    "In this figure, the gate $G^{(2)}$ corresponds to the\n",
    "`~.pennylane.DoubleExcitation`{.interpreted-text role=\"class\"}\n",
    "operation, implemented in PennyLane as a [Givens\n",
    "rotation](https://en.wikipedia.org/wiki/Givens_rotation), which couples\n",
    "the four-qubit states $\\vert 1100 \\rangle$ and $\\vert 0011 \\rangle.$ For\n",
    "more details on how to use the excitation operations to build quantum\n",
    "circuits for quantum chemistry applications see the tutorial\n",
    "`tutorial_givens_rotations`\n",
    "\n",
    "Implementing the circuit above using PennyLane is straightforward.\n",
    "First, we use the `hf_state` function to\n",
    "generate the vector representing the Hartree-Fock state.\n"
   ]
  },
  {
   "cell_type": "code",
   "execution_count": 27,
   "metadata": {},
   "outputs": [
    {
     "name": "stdout",
     "output_type": "stream",
     "text": [
      "[1 1 0 0]\n"
     ]
    }
   ],
   "source": [
    "electrons = 2\n",
    "hf = qml.qchem.hf_state(electrons, qubits)\n",
    "print(hf)"
   ]
  },
  {
   "cell_type": "code",
   "execution_count": null,
   "metadata": {},
   "outputs": [],
   "source": []
  },
  {
   "cell_type": "code",
   "execution_count": 28,
   "metadata": {},
   "outputs": [],
   "source": [
    "@qml.qnode(dev, interface=\"jax\")\n",
    "def circuit(param, wires):\n",
    "    qml.BasisState(hf, wires=wires)\n",
    "    qml.DoubleExcitation(param, wires=[0, 1, 2, 3])\n",
    "    return qml.expval(H)"
   ]
  },
  {
   "cell_type": "markdown",
   "metadata": {},
   "source": [
    "We can now define our error function simply as the expected value calculated above:\n",
    "\n",
    "This is function that is minimized\n"
   ]
  },
  {
   "cell_type": "code",
   "execution_count": 29,
   "metadata": {},
   "outputs": [],
   "source": [
    "def cost_fn(param):\n",
    "    return circuit(param, wires=range(qubits))"
   ]
  },
  {
   "cell_type": "markdown",
   "metadata": {},
   "source": [
    "\n",
    "Now we proceed to minimize the cost function to find the ground state of the  $H_2$\n",
    "  molecule. To start, we need to define the classical optimizer. The library optax (https://optax.readthedocs.io/en/latest/) offers different optimizers. Here we use a basic gradient-descent optimizer. We carry out the optimization over a maximum of 100 steps aiming to reach a convergence tolerance of  \n",
    "$10^{-6}$ for the value of the cost function\n"
   ]
  },
  {
   "cell_type": "code",
   "execution_count": 30,
   "metadata": {},
   "outputs": [],
   "source": [
    "import optax\n",
    "\n",
    "max_iterations = 100\n",
    "conv_tol = 1e-06\n",
    "\n",
    "opt = optax.sgd(learning_rate=0.4)"
   ]
  },
  {
   "cell_type": "code",
   "execution_count": null,
   "metadata": {},
   "outputs": [],
   "source": []
  },
  {
   "cell_type": "code",
   "execution_count": 31,
   "metadata": {},
   "outputs": [],
   "source": [
    "from jax import numpy as np\n",
    "import jax"
   ]
  },
  {
   "cell_type": "markdown",
   "metadata": {},
   "source": [
    "The angle $\\theta$ is optimized to minimze the energy.\n",
    "\n",
    "The energy is units of Hartee  https://en.wikipedia.org/wiki/Hartree"
   ]
  },
  {
   "cell_type": "code",
   "execution_count": 32,
   "metadata": {},
   "outputs": [
    {
     "name": "stdout",
     "output_type": "stream",
     "text": [
      "Step = 0,  Energy = -1.12772107 Ha\n",
      "Step = 1,  Energy = -1.13287044 Ha\n",
      "Step = 2,  Energy = -1.13524628 Ha\n",
      "Step = 3,  Energy = -1.13633823 Ha\n",
      "Step = 4,  Energy = -1.13683927 Ha\n",
      "Step = 5,  Energy = -1.13706899 Ha\n",
      "Step = 6,  Energy = -1.13717425 Ha\n",
      "Step = 7,  Energy = -1.13722253 Ha\n",
      "Step = 8,  Energy = -1.13724458 Ha\n",
      "Step = 9,  Energy = -1.13725471 Ha\n",
      "Step = 10,  Energy = -1.13725936 Ha\n",
      "Step = 11,  Energy = -1.13726151 Ha\n",
      "Step = 12,  Energy = -1.13726246 Ha\n",
      "\n",
      "Final value of the ground-state energy = -1.13726246 Ha\n",
      "\n",
      "Optimal value of the circuit parameter = 0.2250\n"
     ]
    }
   ],
   "source": [
    "\n",
    "\n",
    "#import numpy as np\n",
    "theta = np.array(0.)\n",
    "\n",
    "# store the values of the cost function\n",
    "energy = [cost_fn(theta)]\n",
    "\n",
    "# store the values of the circuit parameter\n",
    "angle = [theta]\n",
    "\n",
    "opt_state = opt.init(theta)\n",
    "\n",
    "for n in range(max_iterations):\n",
    "\n",
    "    gradient = jax.grad(cost_fn)(theta)\n",
    "    updates, opt_state = opt.update(gradient, opt_state)\n",
    "    theta = optax.apply_updates(theta, updates)\n",
    "\n",
    "    angle.append(theta)\n",
    "    energy.append(cost_fn(theta))\n",
    "\n",
    "    conv = np.abs(energy[-1] - energy[-2])\n",
    "\n",
    "    print(f\"Step = {n},  Energy = {energy[-1]:.8f} Ha\")\n",
    "\n",
    "    if conv <= conv_tol:\n",
    "        break\n",
    "\n",
    "print(\"\\n\" f\"Final value of the ground-state energy = {energy[-1]:.8f} Ha\")\n",
    "print(\"\\n\" f\"Optimal value of the circuit parameter = {angle[-1]:.4f}\")"
   ]
  },
  {
   "cell_type": "markdown",
   "metadata": {},
   "source": [
    "1 Ha is 27.2 eV\n",
    "\n",
    "So the energy of $H_2$ state id 27.3 * (-1.13726246 ) = -31 eV\n",
    "\n",
    "\n",
    "Plot the values of the ground state energy of the molecule and the gate parameter $\\theta$ as a function of the optimization step."
   ]
  },
  {
   "cell_type": "code",
   "execution_count": 33,
   "metadata": {},
   "outputs": [
    {
     "data": {
      "image/png": "[encoded data removed]",
      "text/plain": [
       "<Figure size 1200x500 with 2 Axes>"
      ]
     },
     "metadata": {},
     "output_type": "display_data"
    }
   ],
   "source": [
    "import matplotlib.pyplot as plt\n",
    "\n",
    "fig = plt.figure()\n",
    "fig.set_figheight(5)\n",
    "fig.set_figwidth(12)\n",
    "\n",
    "# Full configuration interaction (FCI) energy computed classically\n",
    "E_fci = -1.136189454088\n",
    "\n",
    "# Add energy plot on column 1\n",
    "ax1 = fig.add_subplot(121)\n",
    "ax1.plot(range(n + 2), energy, \"go\", ls=\"dashed\")\n",
    "ax1.plot(range(n + 2), np.full(n + 2, E_fci), color=\"red\")\n",
    "ax1.set_xlabel(\"Optimization step\", fontsize=13)\n",
    "ax1.set_ylabel(\"Energy (Hartree)\", fontsize=13)\n",
    "ax1.text(0.5, -1.1176, r\"$E_\\mathrm{HF}$\", fontsize=15)\n",
    "ax1.text(0, -1.1357, r\"$E_\\mathrm{FCI}$\", fontsize=15)\n",
    "plt.xticks(fontsize=12)\n",
    "plt.yticks(fontsize=12)\n",
    "\n",
    "# Add angle plot on column 2\n",
    "ax2 = fig.add_subplot(122)\n",
    "ax2.plot(range(n + 2), angle, \"go\", ls=\"dashed\")\n",
    "ax2.set_xlabel(\"Optimization step\", fontsize=13)\n",
    "ax2.set_ylabel(\"Gate parameter $\\\\theta$ (rad)\", fontsize=13)\n",
    "plt.xticks(fontsize=12)\n",
    "plt.yticks(fontsize=12)\n",
    "\n",
    "plt.subplots_adjust(wspace=0.3, bottom=0.2)\n",
    "plt.show()"
   ]
  },
  {
   "cell_type": "markdown",
   "metadata": {},
   "source": [
    "## Theory papers about H2 molecule\n",
    "\n",
    "*  Theory paper on the $H_2$ molecule http://users.df.uba.ar/ferraro/e3/teoricas-2020/KOLOS-WOLONIEWICZ/kolos1968.pdf"
   ]
  },
  {
   "cell_type": "code",
   "execution_count": null,
   "metadata": {},
   "outputs": [],
   "source": []
  }
 ],
 "metadata": {
  "kernelspec": {
   "display_name": "Python 3 (ipykernel)",
   "language": "python",
   "name": "python3"
  },
  "language_info": {
   "codemirror_mode": {
    "name": "ipython",
    "version": 3
   },
   "file_extension": ".py",
   "mimetype": "text/x-python",
   "name": "python",
   "nbconvert_exporter": "python",
   "pygments_lexer": "ipython3",
   "version": "3.12.2"
  }
 },
 "nbformat": 4,
 "nbformat_minor": 4
}
