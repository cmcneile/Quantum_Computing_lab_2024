{
 "cells": [
  {
   "cell_type": "markdown",
   "id": "233aa3ed-825c-4ba7-8d18-76587107c5f9",
   "metadata": {},
   "source": [
    "# Quantum Computing Hints for the coursework \n",
    "\n"
   ]
  },
  {
   "cell_type": "markdown",
   "id": "b8e63879-a6e0-49f5-a1c9-595c06925892",
   "metadata": {},
   "source": [
    "##  Installing pennylane on the University machines and your laptop\n",
    "\n",
    "There are instructions on how to install pennylane on your computer at: https://pennylane.ai/install/\n",
    "\n",
    "In the annaconda prompt or terminal on a Mac type \n",
    "\n",
    "pip install pennylane --upgrade\n",
    "\n",
    "If you have spyder running you may need to restart spyder to access the library.\n",
    "\n",
    "You will have to run this command everytime you work on a new PC in the lab.\n",
    "\n",
    "There may be  additional complications with the University PCs,because of administrative rights. \n",
    "\n",
    "\n"
   ]
  },
  {
   "cell_type": "markdown",
   "id": "141527fe-1418-4018-82cd-9493e1b5b203",
   "metadata": {},
   "source": [
    "##  Question Quantum Phase Estimation\n",
    "\n",
    "The aim of this section is to numerically investigate the quantum phase estimation algorithm. This is an algorithm to estimate the eigenvalue of a unitary matrix. We will first use a simple matrix with known eigenvalues.\n",
    "\n",
    "* Background to Quantum Phase Estimation https://en.wikipedia.org/wiki/Quantum_phase_estimation_algorithm\n",
    "\n",
    "* See the Pennylane tutorial https://pennylane.ai/qml/demos/tutorial_qpe/\n",
    "\n",
    "We want to estimate the phase $\\phi$\n",
    "\n",
    "$$\n",
    "U \\mid \\psi \\rangle = e^{2 i \\pi \\phi } \\mid \\psi \\rangle\n",
    "$$\n",
    "\n",
    "\n"
   ]
  },
  {
   "cell_type": "markdown",
   "id": "028fe1fe-af9a-4cc9-bbf8-5992a8e214b0",
   "metadata": {},
   "source": [
    "In this question, we apply a 1 by 1 complex phase  $ e^{2 i \\pi \\phi }$ where $\\phi $ is a known parameter.\n",
    "\n",
    "To test the quantum phase estimation we input a known phase $\\phi$\n",
    "We can then check that the Quantum Phase Estimation can reproduce the known $\\phi$.\n",
    "\n",
    "The noise code should go in the function circuit_qpe\n"
   ]
  },
  {
   "cell_type": "markdown",
   "id": "e7972ffa-5c5a-4169-8682-016a59c419aa",
   "metadata": {},
   "source": [
    "## input parameters\n",
    "phi_input : The input phase $\\phi$\n",
    "\n",
    "measure_qubit : The number of qubits to estimate the phase\n"
   ]
  },
  {
   "cell_type": "code",
   "execution_count": null,
   "id": "9ca7773e-3d4f-4d77-ba7e-d792b0845738",
   "metadata": {},
   "outputs": [],
   "source": [
    "phi_input = 0.2\n",
    "measure_qubit = 5"
   ]
  },
  {
   "cell_type": "code",
   "execution_count": null,
   "id": "6f6a68fc-5d32-4802-bf6a-eda8bc44c307",
   "metadata": {},
   "outputs": [],
   "source": [
    "import pennylane as qml\n",
    "import numpy as np\n",
    "\n",
    "## This function applies the phase phi\n",
    "def U(wires,phi):\n",
    "    return qml.PhaseShift(2 * np.pi * phi, wires=wires)"
   ]
  },
  {
   "cell_type": "code",
   "execution_count": null,
   "id": "3af9b757-a5d8-4c9a-b20e-0177650a4082",
   "metadata": {},
   "outputs": [],
   "source": [
    "nwires = measure_qubit + 1\n",
    "dev = qml.device('default.mixed', wires=nwires)\n",
    "\n",
    "## Below is a code to compute the phase using quantum phase estimation\n",
    "@qml.qnode(dev)\n",
    "def circuit_qpe(estimation_wires,phi):\n",
    "    # initialize to state |1>\n",
    "    qml.PauliX(wires=0)\n",
    "\n",
    "    for wire in estimation_wires:\n",
    "        qml.Hadamard(wires=wire)\n",
    "\n",
    "    qml.ControlledSequence(U(wires=0,phi=phi), control=estimation_wires)\n",
    "    # The noise code should go here\n",
    "\n",
    "    \n",
    "    qml.adjoint(qml.QFT)(wires=estimation_wires)\n",
    "\n",
    "    return qml.probs(wires=estimation_wires)"
   ]
  },
  {
   "cell_type": "code",
   "execution_count": null,
   "id": "ae764e43-4826-49f8-b9e4-02fc6217b0d5",
   "metadata": {},
   "outputs": [],
   "source": [
    "estimation_wires = range(1, measure_qubit)"
   ]
  },
  {
   "cell_type": "code",
   "execution_count": null,
   "id": "00ec3535-80cf-404d-9236-55ba25107c5e",
   "metadata": {},
   "outputs": [],
   "source": [
    "\n",
    "\n",
    "# https://stackoverflow.com/questions/13662933/how-to-convert-a-string-representing-a-binary-fraction-to-a-number-in-python\n",
    "def frac_bin_str_to_float(num):\n",
    "    \"\"\"Assuming num to be a string representing\n",
    "    the fractional part of a binary number with\n",
    "    no integer part, return num as a float.\"\"\"\n",
    "    result = 0\n",
    "    ex = 2.0\n",
    "    for c in num:\n",
    "        if c == '1':\n",
    "            result += 1/ex \n",
    "        ex *= 2\n",
    "    return result"
   ]
  },
  {
   "cell_type": "markdown",
   "id": "e197c437-4ee0-4c49-bd82-c0c42d1c7bc9",
   "metadata": {},
   "source": [
    "## Plot the circuit"
   ]
  },
  {
   "cell_type": "code",
   "execution_count": null,
   "id": "dbba25a4-ad7d-4972-88c4-7c4c6edcba4c",
   "metadata": {},
   "outputs": [],
   "source": [
    "#  https://docs.pennylane.ai/en/stable/introduction/circuits.html\n",
    "\n",
    "import matplotlib.pyplot as plt\n",
    "qml.drawer.use_style(\"black_white\")\n",
    "fig, ax = qml.draw_mpl( circuit_qpe)(estimation_wires,0.2)\n",
    "    \n",
    "plt.show()"
   ]
  },
  {
   "cell_type": "code",
   "execution_count": null,
   "id": "c0380827-e5fd-4820-90d2-4df9fa92f9c4",
   "metadata": {},
   "outputs": [],
   "source": [
    "import matplotlib.pyplot as plt\n",
    "\n",
    "estimation_wires = range(1, measure_qubit)\n",
    "\n",
    "results = circuit_qpe(estimation_wires,phi_input)\n",
    "\n",
    "bit_strings = [f\"0.{x:0{len(estimation_wires)}b}\" for x in range(len(results))]\n",
    "\n",
    "p_thresh = 0.4 \n",
    "print(\"Values with probability > \", p_thresh) \n",
    "for b_, p_ in zip(bit_strings, results):\n",
    "    if p_ > p_thresh  :\n",
    "        phase_est_dec = frac_bin_str_to_float(b_[2:])\n",
    "        print(\"binary=\",b_, \"decimal=\", phase_est_dec ,)\n",
    "\n",
    "plt.bar(bit_strings, results)\n",
    "plt.xlabel(\"phase\")\n",
    "plt.ylabel(\"probability\")\n",
    "plt.xticks(rotation=\"vertical\")\n",
    "plt.subplots_adjust(bottom=0.3)\n",
    "plt.title(r\"Input phase  $\\phi= $\" + str(phi_input) )\n",
    "\n",
    "plt.show()"
   ]
  },
  {
   "cell_type": "markdown",
   "id": "b596279b-5991-4e11-9de1-9fd7748ec020",
   "metadata": {},
   "source": [
    "The result for the phase is in the form of binary decimal notation  \n",
    "$ x = 0. \\phi_1 \\phi_2 \\phi_3 $   \n",
    "\n",
    "where $\\phi_j$ is 1 or  0\n",
    "\n",
    "$x = \\phi_1 / 2 + \\phi_2 / 4 + \\phi_3 / 8 $ \n"
   ]
  },
  {
   "cell_type": "code",
   "execution_count": null,
   "id": "e6592800-3aa5-4594-8b0b-98bb1e6dab93",
   "metadata": {},
   "outputs": [],
   "source": []
  },
  {
   "cell_type": "code",
   "execution_count": null,
   "id": "e8a2ea97-bbc4-4f35-9724-14783c6b3c4f",
   "metadata": {},
   "outputs": [],
   "source": []
  }
 ],
 "metadata": {
  "kernelspec": {
   "display_name": "Python 3 (ipykernel)",
   "language": "python",
   "name": "python3"
  },
  "language_info": {
   "codemirror_mode": {
    "name": "ipython",
    "version": 3
   },
   "file_extension": ".py",
   "mimetype": "text/x-python",
   "name": "python",
   "nbconvert_exporter": "python",
   "pygments_lexer": "ipython3",
   "version": "3.12.7"
  }
 },
 "nbformat": 4,
 "nbformat_minor": 5
}
